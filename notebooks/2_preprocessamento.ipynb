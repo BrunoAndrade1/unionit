{
 "cells": [
  {
   "cell_type": "code",
   "execution_count": 1,
   "id": "bb56cc96-1c5d-4611-8a26-e2421bc5ae8b",
   "metadata": {},
   "outputs": [],
   "source": [
    "import pandas as pd\n",
    "import os\n",
    "import zipfile"
   ]
  },
  {
   "cell_type": "markdown",
   "id": "82e6f05d-bdf5-4686-968f-171bf3e4152f",
   "metadata": {},
   "source": [
    "# 1. Ler Arquivos .csv"
   ]
  },
  {
   "cell_type": "code",
   "execution_count": 3,
   "id": "6be858db-7439-45a4-bea5-3892347e1933",
   "metadata": {},
   "outputs": [],
   "source": [
    "# Sobe um nível no diretório para sair da pasta notebook\n",
    "os.chdir(\"..\")"
   ]
  },
  {
   "cell_type": "code",
   "execution_count": 4,
   "id": "c9ae792e-daa9-49f7-926d-fba5999f9702",
   "metadata": {},
   "outputs": [
    {
     "name": "stdout",
     "output_type": "stream",
     "text": [
      "C:\\Workspace\\Streamlit\\api_contabil_TESTE\n"
     ]
    }
   ],
   "source": [
    "# Verifica o novo diretório de trabalho atual\n",
    "diretorio_atual = os.getcwd()\n",
    "print(diretorio_atual)"
   ]
  },
  {
   "cell_type": "code",
   "execution_count": 5,
   "id": "d4e3d50f-99ce-4e0f-b189-f994bb31800e",
   "metadata": {},
   "outputs": [],
   "source": [
    "# Caminho dos diretorios\n",
    "diretorio_preprocessed_I = os.path.join(diretorio_atual, \"data_cvm\\preprocessed_I\")\n",
    "os.chdir(diretorio_preprocessed_I)"
   ]
  },
  {
   "cell_type": "code",
   "execution_count": 6,
   "id": "7c768069-e93d-49ca-91af-f18172595fb6",
   "metadata": {},
   "outputs": [],
   "source": [
    "# Lendo dados anuais\n",
    "df_anual = pd.read_csv(\"equatorial_anual.csv\")"
   ]
  },
  {
   "cell_type": "code",
   "execution_count": 7,
   "id": "e1c216ca-df93-472a-b500-5045c77ae958",
   "metadata": {},
   "outputs": [],
   "source": [
    "# Lendo dados trimestral\n",
    "df_trimestral = pd.read_csv(\"equatorial_trimestral.csv\")"
   ]
  },
  {
   "cell_type": "markdown",
   "id": "51dfad81-922f-40bf-8765-89fabea1fd06",
   "metadata": {},
   "source": [
    "# 2. Pre-processamento anual"
   ]
  },
  {
   "cell_type": "markdown",
   "id": "d5590793-6453-4b54-8344-e03681a89233",
   "metadata": {},
   "source": [
    "## 2.1 Tratando Colunas"
   ]
  },
  {
   "cell_type": "code",
   "execution_count": 8,
   "id": "022e677b-bffe-4266-9ef6-3ebf822935d8",
   "metadata": {},
   "outputs": [],
   "source": [
    "df_anual[['CON_IND','TIPO_DEM']] = df_anual['GRUPO_DFP'].str.split(\"-\", expand = True)\n",
    "df_anual['CON_IND'] = df_anual['CON_IND'].str.strip()\n",
    "df_anual['TIPO_DEM'] = df_anual['TIPO_DEM'].str.strip()"
   ]
  },
  {
   "cell_type": "markdown",
   "id": "49816b04-5789-421c-9204-ddac69cf7844",
   "metadata": {},
   "source": [
    "## 2.2 Filtros"
   ]
  },
  {
   "cell_type": "code",
   "execution_count": 9,
   "id": "77fe3cc1-e1b3-442d-9baf-29495b72821c",
   "metadata": {},
   "outputs": [],
   "source": [
    "# Filtrando o último exercício\n",
    "df_anual = df_anual[(df_anual['ORDEM_EXERC'] == \"ÚLTIMO\")].copy()"
   ]
  },
  {
   "cell_type": "code",
   "execution_count": 10,
   "id": "c68b9d15-f1eb-4f12-94fb-edcd1da14bca",
   "metadata": {},
   "outputs": [],
   "source": [
    "# Demonstrativos consolidados\n",
    "df_anual = df_anual[df_anual[\"CON_IND\"] == \"DF Consolidado\"].copy()"
   ]
  },
  {
   "cell_type": "markdown",
   "id": "2d62a066-4eee-4198-9fae-66a0a997cf45",
   "metadata": {},
   "source": [
    "## 2.3 Conversões "
   ]
  },
  {
   "cell_type": "code",
   "execution_count": 11,
   "id": "1c60793a-73a6-456b-af20-55e2dcda00ae",
   "metadata": {},
   "outputs": [],
   "source": [
    "# Converte coluna DT_REFER para o tipo datetime\n",
    "df_anual['DT_REFER'] = pd.to_datetime(df_anual['DT_REFER'])\n",
    "# Separa o ano e cria a coluna ano\n",
    "df_anual['ANO'] = pd.DatetimeIndex(df_anual['DT_REFER']).year\n",
    "# Separa o mês e cria a coluna mês\n",
    "df_anual['MES'] = pd.DatetimeIndex(df_anual['DT_REFER']).month"
   ]
  },
  {
   "cell_type": "markdown",
   "id": "473cbb08-9b25-4ae8-af77-bc1a0c1c3cac",
   "metadata": {},
   "source": [
    "## 2.4 Deletando Colunas"
   ]
  },
  {
   "cell_type": "code",
   "execution_count": 12,
   "id": "972a4440-d65a-4ffd-9232-f4e44dafd7d9",
   "metadata": {},
   "outputs": [],
   "source": [
    "# Deletando colunas desnecessárias\n",
    "df_anual = df_anual.drop(columns=['DT_RECEB','CD_CVM', 'ID_DOC', 'COLUNA_DF','ST_CONTA_FIXA', 'VERSAO',\n",
    "                      'NUM_ITEM_PARECER_DECL', 'TXT_PARECER_DECL','COLUNA_DF','TP_RELAT_AUD',\n",
    "                      'ESCALA_MOEDA', 'MOEDA','LINK_DOC','TP_PARECER_DECL', 'CATEG_DOC', 'DT_REFER',\n",
    "                      'GRUPO_DFP', 'ORDEM_EXERC', 'CON_IND'\n",
    "                                          ])"
   ]
  },
  {
   "cell_type": "markdown",
   "id": "1a81ab3a-2a33-401f-ba91-57f7bb59f077",
   "metadata": {},
   "source": [
    "# 3. Pre-processamento - Trimestral"
   ]
  },
  {
   "cell_type": "markdown",
   "id": "11736541-2c88-430d-b60b-e5ffddda520d",
   "metadata": {},
   "source": [
    "## 3.1 Tratando as Colunas"
   ]
  },
  {
   "cell_type": "code",
   "execution_count": 13,
   "id": "a992bad7-af1b-4b27-9135-b1121bac41d9",
   "metadata": {},
   "outputs": [],
   "source": [
    "df_trimestral[['CON_IND','TIPO_DEM']] = df_trimestral['GRUPO_DFP'].str.split(\"-\", expand = True)\n",
    "df_trimestral['CON_IND'] = df_trimestral['CON_IND'].str.strip()\n",
    "df_trimestral['TIPO_DEM'] = df_trimestral['TIPO_DEM'].str.strip()"
   ]
  },
  {
   "cell_type": "markdown",
   "id": "bad6e859-28f7-4574-b688-521129b627dd",
   "metadata": {},
   "source": [
    "## 3.2 Filtros"
   ]
  },
  {
   "cell_type": "code",
   "execution_count": 14,
   "id": "32e88712-824b-4780-8ec2-63f853ef9cd3",
   "metadata": {},
   "outputs": [],
   "source": [
    "# Filtrando o último exercício\n",
    "df_trimestral = df_trimestral[(df_trimestral['ORDEM_EXERC'] == \"ÚLTIMO\")].copy()"
   ]
  },
  {
   "cell_type": "code",
   "execution_count": 15,
   "id": "2efce7ee-2e7b-4876-96f1-e5b52ffceae1",
   "metadata": {},
   "outputs": [],
   "source": [
    "# Demonstrativos consolidados\n",
    "df_trimestral = df_trimestral[df_trimestral[\"CON_IND\"] == \"DF Consolidado\"].copy()"
   ]
  },
  {
   "cell_type": "markdown",
   "id": "3be4c0bf-7855-4180-964b-a7461e2f28f5",
   "metadata": {},
   "source": [
    "## 3.3 Conversões"
   ]
  },
  {
   "cell_type": "code",
   "execution_count": 16,
   "id": "f8b2b7fd-140b-41c5-a627-391453887438",
   "metadata": {},
   "outputs": [],
   "source": [
    "# Converte coluna DT_REFER para o tipo datetime\n",
    "df_trimestral['DT_REFER'] = pd.to_datetime(df_trimestral['DT_REFER'])\n",
    "# Separa o ano e cria a coluna ano\n",
    "df_trimestral['ANO'] = pd.DatetimeIndex(df_trimestral['DT_REFER']).year\n",
    "# Separa o mês e cria a coluna mês\n",
    "df_trimestral['MES'] = pd.DatetimeIndex(df_trimestral['DT_REFER']).month"
   ]
  },
  {
   "cell_type": "markdown",
   "id": "58294103-4616-4a9d-bf82-b1b8035be6c3",
   "metadata": {},
   "source": [
    "## 3.4 Delentando Colunas"
   ]
  },
  {
   "cell_type": "code",
   "execution_count": 17,
   "id": "5aeec627-0d34-4fdb-84c6-fb6adfeb2de3",
   "metadata": {},
   "outputs": [
    {
     "data": {
      "text/plain": [
       "Index(['CNPJ_CIA', 'DT_REFER', 'VERSAO', 'DENOM_CIA', 'CD_CVM', 'CATEG_DOC',\n",
       "       'ID_DOC', 'DT_RECEB', 'LINK_DOC', 'GRUPO_DFP', 'MOEDA', 'ESCALA_MOEDA',\n",
       "       'ORDEM_EXERC', 'DT_FIM_EXERC', 'CD_CONTA', 'DS_CONTA', 'VL_CONTA',\n",
       "       'ST_CONTA_FIXA', 'DT_INI_EXERC', 'COLUNA_DF', 'TP_RELAT_ESP',\n",
       "       'TP_PARECER_DECL', 'NUM_ITEM_PARECER_DECL', 'TXT_PARECER_DECL',\n",
       "       'CON_IND', 'TIPO_DEM', 'ANO', 'MES'],\n",
       "      dtype='object')"
      ]
     },
     "execution_count": 17,
     "metadata": {},
     "output_type": "execute_result"
    }
   ],
   "source": [
    "df_trimestral.columns"
   ]
  },
  {
   "cell_type": "code",
   "execution_count": 18,
   "id": "2bde5d42-465c-4695-a6d7-2e92d61d61bb",
   "metadata": {},
   "outputs": [],
   "source": [
    "# Deletando colunas desnecessárias\n",
    "df_trimestral = df_trimestral.drop(columns=['DT_REFER', 'VERSAO', 'CD_CVM', 'CATEG_DOC',\n",
    "       'ID_DOC', 'DT_RECEB', 'LINK_DOC', 'GRUPO_DFP', 'MOEDA', 'ESCALA_MOEDA',\n",
    "       'ORDEM_EXERC', 'ST_CONTA_FIXA', 'COLUNA_DF', 'TP_RELAT_ESP',\n",
    "       'TP_PARECER_DECL', 'NUM_ITEM_PARECER_DECL', 'TXT_PARECER_DECL',\n",
    "       'CON_IND'])"
   ]
  },
  {
   "cell_type": "markdown",
   "id": "59a15aad-0492-437c-9fd7-e29b40093e6f",
   "metadata": {},
   "source": [
    "# 4. Filtrando os Demonstrativos"
   ]
  },
  {
   "cell_type": "code",
   "execution_count": 19,
   "id": "2a014eb6-21da-46b9-af23-f7f538779059",
   "metadata": {},
   "outputs": [],
   "source": [
    "df_resultado_trimestral = df_trimestral[df_trimestral['TIPO_DEM'] == 'Demonstração do Resultado']"
   ]
  },
  {
   "cell_type": "code",
   "execution_count": 20,
   "id": "28d23f7c-b3ab-440a-9e9a-3214afad1fc3",
   "metadata": {},
   "outputs": [],
   "source": [
    "df_resultado_anual = df_anual[df_anual['TIPO_DEM'] == 'Demonstração do Resultado']"
   ]
  },
  {
   "cell_type": "code",
   "execution_count": 21,
   "id": "dce6f4dd-6ec2-47aa-8dbf-45b9a53745c1",
   "metadata": {},
   "outputs": [],
   "source": [
    "df_balanco_patrimonial_trimestral = df_trimestral[\n",
    "                                    (df_trimestral[\"TIPO_DEM\"] == \"Balanço Patrimonial Ativo\") |\n",
    "                                    (df_trimestral[\"TIPO_DEM\"] == \"Balanço Patrimonial Passivo\")]"
   ]
  },
  {
   "cell_type": "code",
   "execution_count": 22,
   "id": "273604c0-7b06-4fbe-8e74-ff549b375d97",
   "metadata": {},
   "outputs": [],
   "source": [
    "df_balanco_patrimonial_anual = df_anual[\n",
    "                                (df_anual[\"TIPO_DEM\"] == \"Balanço Patrimonial Ativo\") |\n",
    "                                (df_anual[\"TIPO_DEM\"] == \"Balanço Patrimonial Passivo\")]"
   ]
  },
  {
   "cell_type": "code",
   "execution_count": 23,
   "id": "0d667d9c-e4b0-4e83-91b4-e4f82905853d",
   "metadata": {},
   "outputs": [],
   "source": [
    "df_fluxo_de_caixa_trimestral = df_trimestral[(df_trimestral[\"TIPO_DEM\"] == \"Demonstração do Fluxo de Caixa (Método Indireto)\")]"
   ]
  },
  {
   "cell_type": "code",
   "execution_count": 24,
   "id": "8384a991-cc54-4c9c-bcc3-c892cf7cede5",
   "metadata": {},
   "outputs": [],
   "source": [
    "df_fluxo_de_caixa_anual = df_anual[(df_anual[\"TIPO_DEM\"] == \"Demonstração do Fluxo de Caixa (Método Indireto)\")]"
   ]
  },
  {
   "cell_type": "markdown",
   "id": "6a27f8aa-4c0d-42d5-add6-8b94719866e1",
   "metadata": {},
   "source": [
    "# 5. Exportando Arquivos"
   ]
  },
  {
   "cell_type": "markdown",
   "id": "e3624b6e-5e8e-4d56-8c20-64e98ec94c1b",
   "metadata": {},
   "source": [
    "## 5.1 Diretorios"
   ]
  },
  {
   "cell_type": "code",
   "execution_count": 31,
   "id": "72e77997-c85b-447a-bebb-58e14f878968",
   "metadata": {},
   "outputs": [
    {
     "name": "stdout",
     "output_type": "stream",
     "text": [
      "C:\\Workspace\\Streamlit\\api_contabil_TESTE\n"
     ]
    }
   ],
   "source": [
    "# Verifica o diretorio Atual\n",
    "print(diretorio_atual)"
   ]
  },
  {
   "cell_type": "code",
   "execution_count": 30,
   "id": "87a08db2-a440-4789-bb2c-1cc45f262138",
   "metadata": {},
   "outputs": [],
   "source": [
    "# Caminho dos diretorios\n",
    "diretorio_processed_II = os.path.join(diretorio_atual, \"data_cvm\\preprocessed_II\")\n",
    "os.chdir(diretorio_processed_II)"
   ]
  },
  {
   "cell_type": "markdown",
   "id": "5466ff67-fc0c-4cbb-b166-d908a855a23a",
   "metadata": {},
   "source": [
    "## 5.2 Exportando"
   ]
  },
  {
   "cell_type": "code",
   "execution_count": 32,
   "id": "68b6cfd8-0c37-43ae-9f7a-ca202f91aaec",
   "metadata": {},
   "outputs": [],
   "source": [
    "df_resultado_trimestral.to_csv('equatorial_resultado_trim.csv', index=False)\n",
    "df_resultado_anual.to_csv('equatorial_resultado_anual.csv', index=False)\n",
    "df_balanco_patrimonial_trimestral.to_csv('equatorial_balanco_trim.csv', index=False)\n",
    "df_balanco_patrimonial_anual.to_csv('equatorial_balanco_anual.csv', index=False)\n",
    "df_fluxo_de_caixa_trimestral.to_csv('equatorial_fluxo_caixa_trim.csv', index=False)\n",
    "df_fluxo_de_caixa_anual.to_csv('equatorial_fluxo_caixa_anual.csv', index=False)"
   ]
  }
 ],
 "metadata": {
  "kernelspec": {
   "display_name": "Python 3 (ipykernel)",
   "language": "python",
   "name": "python3"
  },
  "language_info": {
   "codemirror_mode": {
    "name": "ipython",
    "version": 3
   },
   "file_extension": ".py",
   "mimetype": "text/x-python",
   "name": "python",
   "nbconvert_exporter": "python",
   "pygments_lexer": "ipython3",
   "version": "3.11.9"
  }
 },
 "nbformat": 4,
 "nbformat_minor": 5
}
