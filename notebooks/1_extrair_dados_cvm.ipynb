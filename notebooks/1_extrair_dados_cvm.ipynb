{
 "cells": [
  {
   "cell_type": "code",
   "execution_count": 1,
   "id": "3412ce19-b250-4452-aae6-6ce7dd46c99e",
   "metadata": {},
   "outputs": [],
   "source": [
    "import pandas as pd\n",
    "import requests\n",
    "import os\n",
    "import zipfile"
   ]
  },
  {
   "cell_type": "markdown",
   "id": "c9d13161-4a0f-469b-99d6-637cc931714d",
   "metadata": {},
   "source": [
    "## 1.Extrair os dados da CVM"
   ]
  },
  {
   "cell_type": "markdown",
   "id": "dce4aa70-9b31-45ec-8b16-e7161c4b1451",
   "metadata": {},
   "source": [
    "### 1.1 Diretório"
   ]
  },
  {
   "cell_type": "code",
   "execution_count": 3,
   "id": "d7b4dca9-1a4e-48c8-9a45-8afb724eb7c2",
   "metadata": {},
   "outputs": [],
   "source": [
    "# Sobe um nível no diretório\n",
    "os.chdir(\"..\")"
   ]
  },
  {
   "cell_type": "code",
   "execution_count": 4,
   "id": "bccdcdd8-0c09-420a-97ee-d18201883bc1",
   "metadata": {},
   "outputs": [
    {
     "name": "stdout",
     "output_type": "stream",
     "text": [
      "C:\\Workspace\\Streamlit\\api_contabil_TESTE\n"
     ]
    }
   ],
   "source": [
    "# Verifica o novo diretório de trabalho atual\n",
    "diretorio_atual = os.getcwd()\n",
    "print(diretorio_atual)"
   ]
  },
  {
   "cell_type": "code",
   "execution_count": 5,
   "id": "36f80a38-58ef-4776-8183-65f77a98aef0",
   "metadata": {},
   "outputs": [],
   "source": [
    "# Caminho dos diretorios\n",
    "diretorio_preprocessed_I = os.path.join(diretorio_atual, \"data_cvm\\preprocessed_I\")\n",
    "diretorio_preprocessed_II = os.path.join(diretorio_atual, \"data_cvm\\preprocessed_II\")\n",
    "diretorio_processed = os.path.join(diretorio_atual, \"data_cvm\\processed\")\n",
    "diretorio_anual = os.path.join(diretorio_atual, \"data_cvm\\external\\dados_cvm_anual\")\n",
    "diretorio_trimestral = os.path.join(diretorio_atual, \"data_cvm\\external\\dados_cvm_trimestral\")"
   ]
  },
  {
   "cell_type": "code",
   "execution_count": 6,
   "id": "fbe818e1-1f80-4127-b632-40e13bc4302b",
   "metadata": {},
   "outputs": [],
   "source": [
    "# Criar os diretórios se não existirem\n",
    "os.makedirs(diretorio_preprocessed_I, exist_ok=True)\n",
    "os.makedirs(diretorio_preprocessed_II, exist_ok=True)\n",
    "os.makedirs(diretorio_processed, exist_ok=True)\n",
    "os.makedirs(diretorio_anual, exist_ok=True)\n",
    "os.makedirs(diretorio_trimestral, exist_ok=True)"
   ]
  },
  {
   "cell_type": "code",
   "execution_count": 7,
   "id": "2ca46753-58e9-4396-b385-b3a51bdc04da",
   "metadata": {},
   "outputs": [],
   "source": [
    "# Função para mudar o diretório\n",
    "def mudar_diretorio(periodo):\n",
    "    if periodo == \"anual\":\n",
    "        os.chdir(diretorio_anual)\n",
    "    elif periodo == \"trimestral\":\n",
    "        os.chdir(diretorio_trimestral)\n",
    "    else:\n",
    "        raise ValueError(\"Período inválido. Escolha entre semestral ou trimestral.\")"
   ]
  },
  {
   "cell_type": "markdown",
   "id": "37e09483-f732-43bb-95b5-2a9b7d837cf7",
   "metadata": {},
   "source": [
    "## 2. Download dos Arquivos"
   ]
  },
  {
   "cell_type": "markdown",
   "id": "d0813653-5a79-44cd-b62c-e0272b7be066",
   "metadata": {},
   "source": [
    "### 2.1 Anual"
   ]
  },
  {
   "cell_type": "code",
   "execution_count": 8,
   "id": "bb03a64d-4a6f-44a8-81a5-038cfc37f6d0",
   "metadata": {},
   "outputs": [],
   "source": [
    "mudar_diretorio(\"anual\")\n",
    "anos = range(2011,2024)\n",
    "\n",
    "url_base = \"https://dados.cvm.gov.br/dados/CIA_ABERTA/DOC/DFP/DADOS/\"\n",
    "\n",
    "for ano in anos:\n",
    "    download = requests.get(url_base + f\"dfp_cia_aberta_{ano}.zip\")\n",
    "    \n",
    "    open(f\"dfp_cia_aberta{ano}.zip\", \"wb\").write(download.content)"
   ]
  },
  {
   "cell_type": "markdown",
   "id": "b2ffc74f-571f-4258-b095-29148481cf39",
   "metadata": {},
   "source": [
    "## 2.2 Trimestral"
   ]
  },
  {
   "cell_type": "code",
   "execution_count": 9,
   "id": "29b3187e-5dd4-473b-bd8a-b52be38445f2",
   "metadata": {},
   "outputs": [],
   "source": [
    "mudar_diretorio(\"trimestral\")\n",
    "anos = range(2011,2024)\n",
    "\n",
    "url_base = \"https://dados.cvm.gov.br/dados/CIA_ABERTA/DOC/ITR/DADOS/\"\n",
    "\n",
    "for ano in anos:\n",
    "    download = requests.get(url_base + f\"itr_cia_aberta_{ano}.zip\")\n",
    "    \n",
    "    open(f\"itr_cia_aberta_{ano}.zip\", \"wb\").write(download.content)"
   ]
  },
  {
   "cell_type": "markdown",
   "id": "a931c580-d102-469d-aadf-aa69bf774022",
   "metadata": {},
   "source": [
    "# 3. Ler arquivos"
   ]
  },
  {
   "cell_type": "code",
   "execution_count": 10,
   "id": "699168c8-0195-40a3-b077-523609cc4186",
   "metadata": {},
   "outputs": [],
   "source": [
    "# Função para ler os arquivos e gerar dataframe\n",
    "def ler_arquivos_diretorio(diretorio):\n",
    "    lista_demonstracoes = []\n",
    "    for arquivo in os.listdir(diretorio):\n",
    "        if arquivo == \".ipynb_checkpoints\":\n",
    "            pass\n",
    "        else:\n",
    "            arquivo_zip = zipfile.ZipFile(arquivo)        \n",
    "            for planilha in arquivo_zip.namelist():                        \n",
    "                demonstracao = pd.read_csv(arquivo_zip.open(planilha), sep=\";\", encoding = \"ISO-8859-1\", \n",
    "                                           dtype = {\"ORDEM_EXERC\": \"category\"})\n",
    "                \n",
    "                lista_demonstracoes.append(demonstracao)\n",
    "    return pd.concat(lista_demonstracoes)   "
   ]
  },
  {
   "cell_type": "markdown",
   "id": "4ea84fad-6342-45be-8244-9eb5e08fbfd8",
   "metadata": {},
   "source": [
    "## 3.1 Anual"
   ]
  },
  {
   "cell_type": "code",
   "execution_count": 11,
   "id": "95e96004-91f8-48ce-9211-7d3047e65573",
   "metadata": {},
   "outputs": [],
   "source": [
    "mudar_diretorio(\"anual\")\n",
    "df_anual = ler_arquivos_diretorio(diretorio_anual)"
   ]
  },
  {
   "cell_type": "markdown",
   "id": "476d6b05-bf6d-4778-97b8-f9d23f39e061",
   "metadata": {},
   "source": [
    "## 3.2 Trimestral"
   ]
  },
  {
   "cell_type": "code",
   "execution_count": 12,
   "id": "e421ee80-db79-427d-98e9-7f22c7f0ce5a",
   "metadata": {},
   "outputs": [],
   "source": [
    "mudar_diretorio(\"trimestral\")\n",
    "df_trimestral = ler_arquivos_diretorio(diretorio_trimestral)"
   ]
  },
  {
   "cell_type": "markdown",
   "id": "4f86155a-cf78-49e9-b3eb-c76415210ffb",
   "metadata": {},
   "source": [
    "# 4. Filtrar Dados da Empresa"
   ]
  },
  {
   "cell_type": "markdown",
   "id": "9466619f-5dd5-439b-b0c9-5ed1ca1a9354",
   "metadata": {},
   "source": [
    "## 4.1 Anual"
   ]
  },
  {
   "cell_type": "code",
   "execution_count": 13,
   "id": "ff664838-3306-4a5b-87ec-9f8b197f56cc",
   "metadata": {},
   "outputs": [],
   "source": [
    "df_anual_empresa = df_anual[df_anual['DENOM_CIA'] == 'EQUATORIAL ENERGIA S.A.'].copy()"
   ]
  },
  {
   "cell_type": "markdown",
   "id": "ef943a82-f426-4f8d-95ce-0801be17f0b2",
   "metadata": {},
   "source": [
    "## 4.2 Trimestral"
   ]
  },
  {
   "cell_type": "code",
   "execution_count": 14,
   "id": "9bb466de-c5f6-41c1-9078-208794004858",
   "metadata": {},
   "outputs": [],
   "source": [
    "df_trimestral_empresa = df_trimestral[df_trimestral['DENOM_CIA'] == 'EQUATORIAL ENERGIA S.A.'].copy()"
   ]
  },
  {
   "cell_type": "markdown",
   "id": "2e74ace5-8e60-41f0-abd9-2506c630e1b2",
   "metadata": {},
   "source": [
    "# 5. Exportar Dados"
   ]
  },
  {
   "cell_type": "markdown",
   "id": "64977ef8-cc6c-4fdc-8089-983b94baff7d",
   "metadata": {},
   "source": [
    "## 5.1 Diretórios"
   ]
  },
  {
   "cell_type": "code",
   "execution_count": 15,
   "id": "3477ea77-0442-4cdc-be2a-9f38b9bf60f0",
   "metadata": {},
   "outputs": [
    {
     "name": "stdout",
     "output_type": "stream",
     "text": [
      "C:\\Workspace\\Streamlit\\api_contabil_TESTE\n"
     ]
    }
   ],
   "source": [
    "# Diretorio atuaç\n",
    "print(diretorio_atual)"
   ]
  },
  {
   "cell_type": "code",
   "execution_count": 16,
   "id": "11366fa5-fd58-4a7d-a898-ac8121975a02",
   "metadata": {},
   "outputs": [
    {
     "name": "stdout",
     "output_type": "stream",
     "text": [
      "C:\\Workspace\\Streamlit\\api_contabil_TESTE\\data_cvm\\preprocessed_I\n"
     ]
    }
   ],
   "source": [
    "# Caminho dos diretorios\n",
    "os.chdir(diretorio_preprocessed_I)\n",
    "# Confirmar diretorio\n",
    "diretorio_atual = os.getcwd()\n",
    "print(diretorio_atual)"
   ]
  },
  {
   "cell_type": "code",
   "execution_count": 17,
   "id": "d56bd0c4-109f-4a7d-984d-15f250763060",
   "metadata": {},
   "outputs": [],
   "source": [
    "df_anual_empresa.to_csv('equatorial_anual.csv', index=False)"
   ]
  },
  {
   "cell_type": "code",
   "execution_count": 18,
   "id": "184f36a5-5453-41fc-8216-3949c08b049a",
   "metadata": {},
   "outputs": [],
   "source": [
    "df_trimestral_empresa.to_csv('equatorial_trimestral.csv', index=False)\n"
   ]
  }
 ],
 "metadata": {
  "kernelspec": {
   "display_name": "Python 3 (ipykernel)",
   "language": "python",
   "name": "python3"
  },
  "language_info": {
   "codemirror_mode": {
    "name": "ipython",
    "version": 3
   },
   "file_extension": ".py",
   "mimetype": "text/x-python",
   "name": "python",
   "nbconvert_exporter": "python",
   "pygments_lexer": "ipython3",
   "version": "3.11.9"
  }
 },
 "nbformat": 4,
 "nbformat_minor": 5
}
