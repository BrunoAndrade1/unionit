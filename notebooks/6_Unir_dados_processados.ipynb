{
 "cells": [
  {
   "cell_type": "code",
   "execution_count": 1,
   "id": "fba5cdd5-b643-4ae5-b6d8-9beb94636be8",
   "metadata": {},
   "outputs": [],
   "source": [
    "import pandas as pd\n",
    "import os"
   ]
  },
  {
   "cell_type": "markdown",
   "id": "28adff62-2b19-4b7e-8611-55f05dd38d8e",
   "metadata": {},
   "source": [
    "# 1. Ler Arquivos"
   ]
  },
  {
   "cell_type": "code",
   "execution_count": 2,
   "id": "7104a9c9-f90e-4c2b-8b51-54a4683d00fe",
   "metadata": {},
   "outputs": [],
   "source": [
    "# Sobe um nível no diretório\n",
    "os.chdir(\"..\")"
   ]
  },
  {
   "cell_type": "code",
   "execution_count": 3,
   "id": "1025960e-0e4d-4813-8631-6d2191c7c911",
   "metadata": {},
   "outputs": [
    {
     "name": "stdout",
     "output_type": "stream",
     "text": [
      "C:\\Workspace\\Streamlit\\api_contabil_TESTE\n"
     ]
    }
   ],
   "source": [
    "# Armazena o novo diretório de trabalho atual\n",
    "diretorio_atual = os.getcwd()\n",
    "print(diretorio_atual)"
   ]
  },
  {
   "cell_type": "code",
   "execution_count": 4,
   "id": "ff6e1c2e-0588-4e74-b90a-2feb29873c24",
   "metadata": {},
   "outputs": [],
   "source": [
    "# Caminho dos diretorios\n",
    "dir_processed_data = os.path.join(diretorio_atual, \"data_cvm\\processed\")"
   ]
  },
  {
   "cell_type": "code",
   "execution_count": 5,
   "id": "aeb14146-39d4-43b9-af05-4fd020cb765b",
   "metadata": {},
   "outputs": [],
   "source": [
    "# Define o diretório\n",
    "os.chdir(dir_processed_data)"
   ]
  },
  {
   "cell_type": "code",
   "execution_count": 6,
   "id": "8151c97f-cdbb-4f48-9ea5-7d06ce728667",
   "metadata": {},
   "outputs": [],
   "source": [
    "# Ler dados Demonstração de Resultado\n",
    "df_resultado = pd.read_csv(\"demonstracao_resultado_completo.csv\")"
   ]
  },
  {
   "cell_type": "code",
   "execution_count": 7,
   "id": "3cb6d052-c00e-41b4-b5ad-e8456de0f0f0",
   "metadata": {},
   "outputs": [],
   "source": [
    "# Ler dados Demonstração de Balanço Patrimonial\n",
    "df_balanco_patrimonial = pd.read_csv(\"balanco_patrimonial_completo.csv\")"
   ]
  },
  {
   "cell_type": "code",
   "execution_count": 8,
   "id": "cb922519-9868-420a-84ac-032404e15c53",
   "metadata": {},
   "outputs": [],
   "source": [
    "# Ler dados Demonstração de Fluxo de Caixa\n",
    "df_fluxo_caixa = pd.read_csv(\"fluxo_de_caixa_completo.csv\")"
   ]
  },
  {
   "cell_type": "markdown",
   "id": "5bfa1682-835d-495c-b180-c8e555fda462",
   "metadata": {},
   "source": [
    "# 3. Manipulação dos Dados"
   ]
  },
  {
   "cell_type": "markdown",
   "id": "7c624653-ffdf-4aa1-9c60-7634e17c721b",
   "metadata": {},
   "source": [
    "## 3.5 Concatenando Dados Anuais e Trimestrais"
   ]
  },
  {
   "cell_type": "code",
   "execution_count": 9,
   "id": "ba8126be-fedb-4d38-a80b-ce3a720928fc",
   "metadata": {},
   "outputs": [],
   "source": [
    "df_final = pd.concat([df_balanco_patrimonial, df_resultado, df_fluxo_caixa], ignore_index=True)"
   ]
  },
  {
   "cell_type": "markdown",
   "id": "9c15d63b-aa64-4ace-814f-22fbbe7452e1",
   "metadata": {},
   "source": [
    "# 4. Exportando os Dados"
   ]
  },
  {
   "cell_type": "code",
   "execution_count": 10,
   "id": "71f8db23-c4a9-4d0f-aeab-d3a7c4d01a49",
   "metadata": {},
   "outputs": [],
   "source": [
    "# Define o diretório de dados processados\n",
    "# Caminho dos diretorios\n",
    "dir_processed_data = os.path.join(diretorio_atual, \"data_cvm\\processed\")\n",
    "os.chdir(dir_processed_data)"
   ]
  },
  {
   "cell_type": "code",
   "execution_count": 11,
   "id": "d761e578-c529-46a0-b203-2d871d4330e6",
   "metadata": {},
   "outputs": [],
   "source": [
    "df_final.to_csv('dados_equatorial.csv', index=False)"
   ]
  }
 ],
 "metadata": {
  "kernelspec": {
   "display_name": "Python 3 (ipykernel)",
   "language": "python",
   "name": "python3"
  },
  "language_info": {
   "codemirror_mode": {
    "name": "ipython",
    "version": 3
   },
   "file_extension": ".py",
   "mimetype": "text/x-python",
   "name": "python",
   "nbconvert_exporter": "python",
   "pygments_lexer": "ipython3",
   "version": "3.11.9"
  }
 },
 "nbformat": 4,
 "nbformat_minor": 5
}
