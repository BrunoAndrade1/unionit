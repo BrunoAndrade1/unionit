{
 "cells": [
  {
   "cell_type": "code",
   "execution_count": 1,
   "id": "fba5cdd5-b643-4ae5-b6d8-9beb94636be8",
   "metadata": {},
   "outputs": [],
   "source": [
    "import pandas as pd\n",
    "import os"
   ]
  },
  {
   "cell_type": "markdown",
   "id": "28adff62-2b19-4b7e-8611-55f05dd38d8e",
   "metadata": {},
   "source": [
    "# 1. Ler Arquivos"
   ]
  },
  {
   "cell_type": "code",
   "execution_count": 3,
   "id": "7104a9c9-f90e-4c2b-8b51-54a4683d00fe",
   "metadata": {},
   "outputs": [],
   "source": [
    "# Sobe um nível no diretório\n",
    "os.chdir(\"..\")"
   ]
  },
  {
   "cell_type": "code",
   "execution_count": 4,
   "id": "1025960e-0e4d-4813-8631-6d2191c7c911",
   "metadata": {},
   "outputs": [
    {
     "name": "stdout",
     "output_type": "stream",
     "text": [
      "C:\\Workspace\\Streamlit\\api_contabil_TESTE\n"
     ]
    }
   ],
   "source": [
    "# Armazena o novo diretório de trabalho atual\n",
    "diretorio_atual = os.getcwd()\n",
    "print(diretorio_atual)"
   ]
  },
  {
   "cell_type": "code",
   "execution_count": 5,
   "id": "ff6e1c2e-0588-4e74-b90a-2feb29873c24",
   "metadata": {},
   "outputs": [],
   "source": [
    "# Caminho dos diretorios\n",
    "dir_preprocessed_data = os.path.join(diretorio_atual, \"data_cvm\\preprocessed_II\")"
   ]
  },
  {
   "cell_type": "code",
   "execution_count": 6,
   "id": "aeb14146-39d4-43b9-af05-4fd020cb765b",
   "metadata": {},
   "outputs": [],
   "source": [
    "# Define o diretório\n",
    "os.chdir(dir_preprocessed_data)"
   ]
  },
  {
   "cell_type": "code",
   "execution_count": 7,
   "id": "8151c97f-cdbb-4f48-9ea5-7d06ce728667",
   "metadata": {},
   "outputs": [],
   "source": [
    "# Ler dados trimestral\n",
    "df_trim = pd.read_csv(\"equatorial_resultado_trim.csv\")"
   ]
  },
  {
   "cell_type": "code",
   "execution_count": 8,
   "id": "3cb6d052-c00e-41b4-b5ad-e8456de0f0f0",
   "metadata": {},
   "outputs": [],
   "source": [
    "# Ler dados anual\n",
    "df_anual = pd.read_csv(\"equatorial_resultado_anual.csv\")"
   ]
  },
  {
   "cell_type": "code",
   "execution_count": 9,
   "id": "0d320cc3-e542-47e4-8c62-647aed5cd9ed",
   "metadata": {},
   "outputs": [],
   "source": [
    "df = pd.concat([df_anual, df_trim], ignore_index=True)"
   ]
  },
  {
   "cell_type": "markdown",
   "id": "0a357e09-6d73-4c14-bba2-7ec22e7b368d",
   "metadata": {},
   "source": [
    "Os dados trimestrais e anuais foram concatenados para incluir o 4 trimestre, que será calculado posteriormente. \\ \n",
    "O processamento deve ser realizado em ambos os dados, anuais e trimestrais(concatenado)."
   ]
  },
  {
   "cell_type": "markdown",
   "id": "9a766675-c341-4dfc-a5c6-ea1683c677c0",
   "metadata": {},
   "source": [
    "# 2. Análise Exploratória"
   ]
  },
  {
   "cell_type": "markdown",
   "id": "7e340d02-1a68-4124-bd48-0d7f7409b61b",
   "metadata": {},
   "source": [
    "## 2.1 Verficando se há meses duplicados "
   ]
  },
  {
   "cell_type": "code",
   "execution_count": 10,
   "id": "1b7f3ff9-4917-43a6-8200-b20a249ee49d",
   "metadata": {},
   "outputs": [],
   "source": [
    "teste = df[(df['CD_CONTA'] == '3.01') & (df['ANO'] == 2022)] "
   ]
  },
  {
   "cell_type": "code",
   "execution_count": 11,
   "id": "1fba345c-b768-45e5-9218-9018365cf424",
   "metadata": {},
   "outputs": [
    {
     "data": {
      "text/html": [
       "<div>\n",
       "<style scoped>\n",
       "    .dataframe tbody tr th:only-of-type {\n",
       "        vertical-align: middle;\n",
       "    }\n",
       "\n",
       "    .dataframe tbody tr th {\n",
       "        vertical-align: top;\n",
       "    }\n",
       "\n",
       "    .dataframe thead th {\n",
       "        text-align: right;\n",
       "    }\n",
       "</style>\n",
       "<table border=\"1\" class=\"dataframe\">\n",
       "  <thead>\n",
       "    <tr style=\"text-align: right;\">\n",
       "      <th></th>\n",
       "      <th>CNPJ_CIA</th>\n",
       "      <th>DENOM_CIA</th>\n",
       "      <th>DT_FIM_EXERC</th>\n",
       "      <th>CD_CONTA</th>\n",
       "      <th>DS_CONTA</th>\n",
       "      <th>VL_CONTA</th>\n",
       "      <th>DT_INI_EXERC</th>\n",
       "      <th>TIPO_DEM</th>\n",
       "      <th>ANO</th>\n",
       "      <th>MES</th>\n",
       "    </tr>\n",
       "  </thead>\n",
       "  <tbody>\n",
       "    <tr>\n",
       "      <th>395</th>\n",
       "      <td>03.220.438/0001-73</td>\n",
       "      <td>EQUATORIAL ENERGIA S.A.</td>\n",
       "      <td>2022-12-31</td>\n",
       "      <td>3.01</td>\n",
       "      <td>Receita de Venda de Bens e/ou Serviços</td>\n",
       "      <td>27132507.0</td>\n",
       "      <td>2022-01-01</td>\n",
       "      <td>Demonstração do Resultado</td>\n",
       "      <td>2022</td>\n",
       "      <td>12</td>\n",
       "    </tr>\n",
       "    <tr>\n",
       "      <th>2554</th>\n",
       "      <td>03.220.438/0001-73</td>\n",
       "      <td>EQUATORIAL ENERGIA S.A.</td>\n",
       "      <td>2022-03-31</td>\n",
       "      <td>3.01</td>\n",
       "      <td>Receita de Venda de Bens e/ou Serviços</td>\n",
       "      <td>5843189.0</td>\n",
       "      <td>2022-01-01</td>\n",
       "      <td>Demonstração do Resultado</td>\n",
       "      <td>2022</td>\n",
       "      <td>3</td>\n",
       "    </tr>\n",
       "    <tr>\n",
       "      <th>2593</th>\n",
       "      <td>03.220.438/0001-73</td>\n",
       "      <td>EQUATORIAL ENERGIA S.A.</td>\n",
       "      <td>2022-06-30</td>\n",
       "      <td>3.01</td>\n",
       "      <td>Receita de Venda de Bens e/ou Serviços</td>\n",
       "      <td>12335295.0</td>\n",
       "      <td>2022-01-01</td>\n",
       "      <td>Demonstração do Resultado</td>\n",
       "      <td>2022</td>\n",
       "      <td>6</td>\n",
       "    </tr>\n",
       "    <tr>\n",
       "      <th>2594</th>\n",
       "      <td>03.220.438/0001-73</td>\n",
       "      <td>EQUATORIAL ENERGIA S.A.</td>\n",
       "      <td>2022-06-30</td>\n",
       "      <td>3.01</td>\n",
       "      <td>Receita de Venda de Bens e/ou Serviços</td>\n",
       "      <td>6492106.0</td>\n",
       "      <td>2022-04-01</td>\n",
       "      <td>Demonstração do Resultado</td>\n",
       "      <td>2022</td>\n",
       "      <td>6</td>\n",
       "    </tr>\n",
       "    <tr>\n",
       "      <th>2671</th>\n",
       "      <td>03.220.438/0001-73</td>\n",
       "      <td>EQUATORIAL ENERGIA S.A.</td>\n",
       "      <td>2022-09-30</td>\n",
       "      <td>3.01</td>\n",
       "      <td>Receita de Venda de Bens e/ou Serviços</td>\n",
       "      <td>19215572.0</td>\n",
       "      <td>2022-01-01</td>\n",
       "      <td>Demonstração do Resultado</td>\n",
       "      <td>2022</td>\n",
       "      <td>9</td>\n",
       "    </tr>\n",
       "    <tr>\n",
       "      <th>2672</th>\n",
       "      <td>03.220.438/0001-73</td>\n",
       "      <td>EQUATORIAL ENERGIA S.A.</td>\n",
       "      <td>2022-09-30</td>\n",
       "      <td>3.01</td>\n",
       "      <td>Receita de Venda de Bens e/ou Serviços</td>\n",
       "      <td>6880277.0</td>\n",
       "      <td>2022-07-01</td>\n",
       "      <td>Demonstração do Resultado</td>\n",
       "      <td>2022</td>\n",
       "      <td>9</td>\n",
       "    </tr>\n",
       "  </tbody>\n",
       "</table>\n",
       "</div>"
      ],
      "text/plain": [
       "                CNPJ_CIA                DENOM_CIA DT_FIM_EXERC CD_CONTA  \\\n",
       "395   03.220.438/0001-73  EQUATORIAL ENERGIA S.A.   2022-12-31     3.01   \n",
       "2554  03.220.438/0001-73  EQUATORIAL ENERGIA S.A.   2022-03-31     3.01   \n",
       "2593  03.220.438/0001-73  EQUATORIAL ENERGIA S.A.   2022-06-30     3.01   \n",
       "2594  03.220.438/0001-73  EQUATORIAL ENERGIA S.A.   2022-06-30     3.01   \n",
       "2671  03.220.438/0001-73  EQUATORIAL ENERGIA S.A.   2022-09-30     3.01   \n",
       "2672  03.220.438/0001-73  EQUATORIAL ENERGIA S.A.   2022-09-30     3.01   \n",
       "\n",
       "                                    DS_CONTA    VL_CONTA DT_INI_EXERC  \\\n",
       "395   Receita de Venda de Bens e/ou Serviços  27132507.0   2022-01-01   \n",
       "2554  Receita de Venda de Bens e/ou Serviços   5843189.0   2022-01-01   \n",
       "2593  Receita de Venda de Bens e/ou Serviços  12335295.0   2022-01-01   \n",
       "2594  Receita de Venda de Bens e/ou Serviços   6492106.0   2022-04-01   \n",
       "2671  Receita de Venda de Bens e/ou Serviços  19215572.0   2022-01-01   \n",
       "2672  Receita de Venda de Bens e/ou Serviços   6880277.0   2022-07-01   \n",
       "\n",
       "                       TIPO_DEM   ANO  MES  \n",
       "395   Demonstração do Resultado  2022   12  \n",
       "2554  Demonstração do Resultado  2022    3  \n",
       "2593  Demonstração do Resultado  2022    6  \n",
       "2594  Demonstração do Resultado  2022    6  \n",
       "2671  Demonstração do Resultado  2022    9  \n",
       "2672  Demonstração do Resultado  2022    9  "
      ]
     },
     "metadata": {},
     "output_type": "display_data"
    }
   ],
   "source": [
    "display(teste)"
   ]
  },
  {
   "cell_type": "markdown",
   "id": "bb7d2ad1-596f-44e1-a856-ed102326215a",
   "metadata": {},
   "source": [
    "Os meses 6 e 9 possuem valores onde o exercício começa em janeiro do ano vigente e valores onde começam no fim do trimestre anterior."
   ]
  },
  {
   "cell_type": "markdown",
   "id": "5bfa1682-835d-495c-b180-c8e555fda462",
   "metadata": {},
   "source": [
    "# 3. Manipulação dos Dados"
   ]
  },
  {
   "cell_type": "markdown",
   "id": "eda77b88-4fb2-4520-bf5d-9d626eaf958d",
   "metadata": {},
   "source": [
    "## 3.1 Filtrando as Contas Por Nível"
   ]
  },
  {
   "cell_type": "code",
   "execution_count": 12,
   "id": "1c9b2895-675c-49b7-8577-b8a90d66b89f",
   "metadata": {},
   "outputs": [],
   "source": [
    "# Filtra contas dos níveis mais altos\n",
    "df_anual = df_anual[df_anual['CD_CONTA'].str.len() <= 7]\n",
    "df = df[df['CD_CONTA'].str.len() <= 7]"
   ]
  },
  {
   "cell_type": "markdown",
   "id": "be7b3dfa-c8b6-4820-ac01-18e03c6f4e86",
   "metadata": {},
   "source": [
    "## 3.1 Deletando os meses 6 e 9 com inicio do exercicio em janeiro"
   ]
  },
  {
   "cell_type": "markdown",
   "id": "b676904d-3990-4361-984d-2dc41a90bf3b",
   "metadata": {},
   "source": [
    "### 3.1.1 Criando coluna ini_mes"
   ]
  },
  {
   "cell_type": "code",
   "execution_count": 13,
   "id": "5fc6f034-25de-4ecb-8db1-4ca3a024ec2b",
   "metadata": {},
   "outputs": [],
   "source": [
    "# Converte coluna DT_REFER para o tipo datetime\n",
    "df['DT_INI_EXERC'] = pd.to_datetime(df['DT_INI_EXERC'])\n",
    "\n",
    "# Separa o mês e cria a coluna mês\n",
    "df['INI_MES'] = pd.DatetimeIndex(df['DT_INI_EXERC']).month"
   ]
  },
  {
   "cell_type": "code",
   "execution_count": 14,
   "id": "ef03d498-5f65-44aa-b402-0adff52e4ab2",
   "metadata": {},
   "outputs": [
    {
     "name": "stdout",
     "output_type": "stream",
     "text": [
      "Empty DataFrame\n",
      "Columns: [CNPJ_CIA, DENOM_CIA, DT_FIM_EXERC, CD_CONTA, DS_CONTA, VL_CONTA, DT_INI_EXERC, TIPO_DEM, ANO, MES, INI_MES]\n",
      "Index: []\n"
     ]
    }
   ],
   "source": [
    "# Crie uma condição para identificar as linhas que deseja excluir\n",
    "condicao = (df[\"MES\"].isin([6, 9])) & (df[\"INI_MES\"] == 1)\n",
    "# print(condicao)\n",
    "\n",
    "df_droped = df.drop(df[condicao].index)\n",
    "# display(df_drop.tail())\n",
    "\n",
    "# VALIDAÇÃO DA EXCLUSÃO - resultado vazio esta ok\n",
    "print(df_droped[(df_droped['MES'] == 9) & (df_droped[\"INI_MES\"]== 1)])"
   ]
  },
  {
   "cell_type": "code",
   "execution_count": 15,
   "id": "6828cb11-e60f-4171-ac2d-6488e24c70f8",
   "metadata": {},
   "outputs": [
    {
     "data": {
      "text/html": [
       "<div>\n",
       "<style scoped>\n",
       "    .dataframe tbody tr th:only-of-type {\n",
       "        vertical-align: middle;\n",
       "    }\n",
       "\n",
       "    .dataframe tbody tr th {\n",
       "        vertical-align: top;\n",
       "    }\n",
       "\n",
       "    .dataframe thead th {\n",
       "        text-align: right;\n",
       "    }\n",
       "</style>\n",
       "<table border=\"1\" class=\"dataframe\">\n",
       "  <thead>\n",
       "    <tr style=\"text-align: right;\">\n",
       "      <th></th>\n",
       "      <th>CNPJ_CIA</th>\n",
       "      <th>DENOM_CIA</th>\n",
       "      <th>DT_FIM_EXERC</th>\n",
       "      <th>CD_CONTA</th>\n",
       "      <th>DS_CONTA</th>\n",
       "      <th>VL_CONTA</th>\n",
       "      <th>DT_INI_EXERC</th>\n",
       "      <th>TIPO_DEM</th>\n",
       "      <th>ANO</th>\n",
       "      <th>MES</th>\n",
       "      <th>INI_MES</th>\n",
       "    </tr>\n",
       "  </thead>\n",
       "  <tbody>\n",
       "    <tr>\n",
       "      <th>395</th>\n",
       "      <td>03.220.438/0001-73</td>\n",
       "      <td>EQUATORIAL ENERGIA S.A.</td>\n",
       "      <td>2022-12-31</td>\n",
       "      <td>3.01</td>\n",
       "      <td>Receita de Venda de Bens e/ou Serviços</td>\n",
       "      <td>27132507.0</td>\n",
       "      <td>2022-01-01</td>\n",
       "      <td>Demonstração do Resultado</td>\n",
       "      <td>2022</td>\n",
       "      <td>12</td>\n",
       "      <td>1</td>\n",
       "    </tr>\n",
       "    <tr>\n",
       "      <th>2554</th>\n",
       "      <td>03.220.438/0001-73</td>\n",
       "      <td>EQUATORIAL ENERGIA S.A.</td>\n",
       "      <td>2022-03-31</td>\n",
       "      <td>3.01</td>\n",
       "      <td>Receita de Venda de Bens e/ou Serviços</td>\n",
       "      <td>5843189.0</td>\n",
       "      <td>2022-01-01</td>\n",
       "      <td>Demonstração do Resultado</td>\n",
       "      <td>2022</td>\n",
       "      <td>3</td>\n",
       "      <td>1</td>\n",
       "    </tr>\n",
       "    <tr>\n",
       "      <th>2594</th>\n",
       "      <td>03.220.438/0001-73</td>\n",
       "      <td>EQUATORIAL ENERGIA S.A.</td>\n",
       "      <td>2022-06-30</td>\n",
       "      <td>3.01</td>\n",
       "      <td>Receita de Venda de Bens e/ou Serviços</td>\n",
       "      <td>6492106.0</td>\n",
       "      <td>2022-04-01</td>\n",
       "      <td>Demonstração do Resultado</td>\n",
       "      <td>2022</td>\n",
       "      <td>6</td>\n",
       "      <td>4</td>\n",
       "    </tr>\n",
       "    <tr>\n",
       "      <th>2672</th>\n",
       "      <td>03.220.438/0001-73</td>\n",
       "      <td>EQUATORIAL ENERGIA S.A.</td>\n",
       "      <td>2022-09-30</td>\n",
       "      <td>3.01</td>\n",
       "      <td>Receita de Venda de Bens e/ou Serviços</td>\n",
       "      <td>6880277.0</td>\n",
       "      <td>2022-07-01</td>\n",
       "      <td>Demonstração do Resultado</td>\n",
       "      <td>2022</td>\n",
       "      <td>9</td>\n",
       "      <td>7</td>\n",
       "    </tr>\n",
       "  </tbody>\n",
       "</table>\n",
       "</div>"
      ],
      "text/plain": [
       "                CNPJ_CIA                DENOM_CIA DT_FIM_EXERC CD_CONTA  \\\n",
       "395   03.220.438/0001-73  EQUATORIAL ENERGIA S.A.   2022-12-31     3.01   \n",
       "2554  03.220.438/0001-73  EQUATORIAL ENERGIA S.A.   2022-03-31     3.01   \n",
       "2594  03.220.438/0001-73  EQUATORIAL ENERGIA S.A.   2022-06-30     3.01   \n",
       "2672  03.220.438/0001-73  EQUATORIAL ENERGIA S.A.   2022-09-30     3.01   \n",
       "\n",
       "                                    DS_CONTA    VL_CONTA DT_INI_EXERC  \\\n",
       "395   Receita de Venda de Bens e/ou Serviços  27132507.0   2022-01-01   \n",
       "2554  Receita de Venda de Bens e/ou Serviços   5843189.0   2022-01-01   \n",
       "2594  Receita de Venda de Bens e/ou Serviços   6492106.0   2022-04-01   \n",
       "2672  Receita de Venda de Bens e/ou Serviços   6880277.0   2022-07-01   \n",
       "\n",
       "                       TIPO_DEM   ANO  MES  INI_MES  \n",
       "395   Demonstração do Resultado  2022   12        1  \n",
       "2554  Demonstração do Resultado  2022    3        1  \n",
       "2594  Demonstração do Resultado  2022    6        4  \n",
       "2672  Demonstração do Resultado  2022    9        7  "
      ]
     },
     "metadata": {},
     "output_type": "display_data"
    }
   ],
   "source": [
    "teste = df_droped[(df_droped['CD_CONTA'] == '3.01') & (df_droped['ANO'] == 2022)] \n",
    "display(teste)"
   ]
  },
  {
   "cell_type": "markdown",
   "id": "8b334187-dd38-4ef2-9f82-d971297d6914",
   "metadata": {},
   "source": [
    "## 3.2 Deletando as Colunas"
   ]
  },
  {
   "cell_type": "code",
   "execution_count": 18,
   "id": "2801f95e-ce84-4963-bc4d-74463ee270cd",
   "metadata": {},
   "outputs": [],
   "source": [
    "df_droped_column_anual = df_anual.drop(\n",
    "    columns=['DT_FIM_EXERC','DT_INI_EXERC'])"
   ]
  },
  {
   "cell_type": "code",
   "execution_count": 19,
   "id": "95822351-0a58-4e6c-8b78-0caae131e8f2",
   "metadata": {
    "scrolled": true
   },
   "outputs": [],
   "source": [
    "df_droped_column = df_droped.drop(\n",
    "    columns=['DT_FIM_EXERC', 'INI_MES','DT_INI_EXERC'])"
   ]
  },
  {
   "cell_type": "markdown",
   "id": "1e51864a-3965-4095-a1c0-b7a42ac708b9",
   "metadata": {},
   "source": [
    "## 3.3 Inserindo a Coluna Período"
   ]
  },
  {
   "cell_type": "markdown",
   "id": "6a90a1ad-57a4-4911-a1e8-ded4a491ddb6",
   "metadata": {},
   "source": [
    "### 3.3.1 Anual"
   ]
  },
  {
   "cell_type": "code",
   "execution_count": 20,
   "id": "d03afca1-953d-4f39-8483-909e889c8949",
   "metadata": {
    "scrolled": true
   },
   "outputs": [],
   "source": [
    "df_droped_column_anual['PERIODO'] = 'ANUAL'"
   ]
  },
  {
   "cell_type": "markdown",
   "id": "4d19aecc-dde7-4754-b1ea-c0c10d66b3df",
   "metadata": {},
   "source": [
    "### 3.3.2 Trimestral"
   ]
  },
  {
   "cell_type": "code",
   "execution_count": 22,
   "id": "651b579f-a2fd-44d6-9943-ad43ed9f9f95",
   "metadata": {},
   "outputs": [],
   "source": [
    "# Função para inserir a coluns Período\n",
    "def insere_periodo_trimestral(df):\n",
    "    df = df.copy()\n",
    "\n",
    "    # Dicionário para mapear os meses aos trimestres\n",
    "    mes_para_trimestre = {3: 1, 6: 2, 9: 3, 12: 4}\n",
    "    \n",
    "    # Filtrar apenas os anos e meses relevantes\n",
    "    anos_relevantes = list(range(2011, 2025))\n",
    "    meses_relevantes = [3, 6, 9, 12]\n",
    "\n",
    "    # Aplicar a lógica de período trimestral\n",
    "    df = df[(df['ANO'].isin(anos_relevantes)) & (df['MES'].isin(meses_relevantes))]\n",
    "    df['PERIODO'] = df.apply(lambda row: f\"{mes_para_trimestre[row['MES']]}T{row['ANO']}\", axis=1)\n",
    "    \n",
    "    return df"
   ]
  },
  {
   "cell_type": "code",
   "execution_count": 23,
   "id": "32e8e9b9-dcfd-482d-96a9-51a783f1aada",
   "metadata": {},
   "outputs": [],
   "source": [
    "# Inserindo a coluna período\n",
    "df_droped_column = insere_periodo_trimestral(df_droped_column)"
   ]
  },
  {
   "cell_type": "code",
   "execution_count": 25,
   "id": "20c6ed2f-fa1e-4129-9f4d-ccfa937867ad",
   "metadata": {},
   "outputs": [
    {
     "data": {
      "text/html": [
       "<div>\n",
       "<style scoped>\n",
       "    .dataframe tbody tr th:only-of-type {\n",
       "        vertical-align: middle;\n",
       "    }\n",
       "\n",
       "    .dataframe tbody tr th {\n",
       "        vertical-align: top;\n",
       "    }\n",
       "\n",
       "    .dataframe thead th {\n",
       "        text-align: right;\n",
       "    }\n",
       "</style>\n",
       "<table border=\"1\" class=\"dataframe\">\n",
       "  <thead>\n",
       "    <tr style=\"text-align: right;\">\n",
       "      <th></th>\n",
       "      <th>CNPJ_CIA</th>\n",
       "      <th>DENOM_CIA</th>\n",
       "      <th>CD_CONTA</th>\n",
       "      <th>DS_CONTA</th>\n",
       "      <th>VL_CONTA</th>\n",
       "      <th>TIPO_DEM</th>\n",
       "      <th>ANO</th>\n",
       "      <th>MES</th>\n",
       "      <th>PERIODO</th>\n",
       "    </tr>\n",
       "  </thead>\n",
       "  <tbody>\n",
       "    <tr>\n",
       "      <th>437</th>\n",
       "      <td>03.220.438/0001-73</td>\n",
       "      <td>EQUATORIAL ENERGIA S.A.</td>\n",
       "      <td>3.02</td>\n",
       "      <td>Custo dos Bens e/ou Serviços Vendidos</td>\n",
       "      <td>-28842545.0</td>\n",
       "      <td>Demonstração do Resultado</td>\n",
       "      <td>2023</td>\n",
       "      <td>12</td>\n",
       "      <td>4T2023</td>\n",
       "    </tr>\n",
       "    <tr>\n",
       "      <th>2750</th>\n",
       "      <td>03.220.438/0001-73</td>\n",
       "      <td>EQUATORIAL ENERGIA S.A.</td>\n",
       "      <td>3.02</td>\n",
       "      <td>Custo dos Bens e/ou Serviços Vendidos</td>\n",
       "      <td>-7380981.0</td>\n",
       "      <td>Demonstração do Resultado</td>\n",
       "      <td>2023</td>\n",
       "      <td>3</td>\n",
       "      <td>1T2023</td>\n",
       "    </tr>\n",
       "    <tr>\n",
       "      <th>2793</th>\n",
       "      <td>03.220.438/0001-73</td>\n",
       "      <td>EQUATORIAL ENERGIA S.A.</td>\n",
       "      <td>3.02</td>\n",
       "      <td>Custo dos Bens e/ou Serviços Vendidos</td>\n",
       "      <td>-6438133.0</td>\n",
       "      <td>Demonstração do Resultado</td>\n",
       "      <td>2023</td>\n",
       "      <td>6</td>\n",
       "      <td>2T2023</td>\n",
       "    </tr>\n",
       "    <tr>\n",
       "      <th>2871</th>\n",
       "      <td>03.220.438/0001-73</td>\n",
       "      <td>EQUATORIAL ENERGIA S.A.</td>\n",
       "      <td>3.02</td>\n",
       "      <td>Custo dos Bens e/ou Serviços Vendidos</td>\n",
       "      <td>-7055107.0</td>\n",
       "      <td>Demonstração do Resultado</td>\n",
       "      <td>2023</td>\n",
       "      <td>9</td>\n",
       "      <td>3T2023</td>\n",
       "    </tr>\n",
       "  </tbody>\n",
       "</table>\n",
       "</div>"
      ],
      "text/plain": [
       "                CNPJ_CIA                DENOM_CIA CD_CONTA  \\\n",
       "437   03.220.438/0001-73  EQUATORIAL ENERGIA S.A.     3.02   \n",
       "2750  03.220.438/0001-73  EQUATORIAL ENERGIA S.A.     3.02   \n",
       "2793  03.220.438/0001-73  EQUATORIAL ENERGIA S.A.     3.02   \n",
       "2871  03.220.438/0001-73  EQUATORIAL ENERGIA S.A.     3.02   \n",
       "\n",
       "                                   DS_CONTA    VL_CONTA  \\\n",
       "437   Custo dos Bens e/ou Serviços Vendidos -28842545.0   \n",
       "2750  Custo dos Bens e/ou Serviços Vendidos  -7380981.0   \n",
       "2793  Custo dos Bens e/ou Serviços Vendidos  -6438133.0   \n",
       "2871  Custo dos Bens e/ou Serviços Vendidos  -7055107.0   \n",
       "\n",
       "                       TIPO_DEM   ANO  MES PERIODO  \n",
       "437   Demonstração do Resultado  2023   12  4T2023  \n",
       "2750  Demonstração do Resultado  2023    3  1T2023  \n",
       "2793  Demonstração do Resultado  2023    6  2T2023  \n",
       "2871  Demonstração do Resultado  2023    9  3T2023  "
      ]
     },
     "execution_count": 25,
     "metadata": {},
     "output_type": "execute_result"
    }
   ],
   "source": [
    "df_droped_column[(df_droped_column[\"ANO\"] == 2023) & (df_droped_column['CD_CONTA'] == \"3.02\")]"
   ]
  },
  {
   "cell_type": "markdown",
   "id": "d8366aa2-96e6-4939-846a-97533d80b4aa",
   "metadata": {},
   "source": [
    "## 3.4 Calculando 4º Trimestre"
   ]
  },
  {
   "cell_type": "code",
   "execution_count": 26,
   "id": "e65429c1-81bf-42ec-b500-6bbddeceed47",
   "metadata": {},
   "outputs": [],
   "source": [
    "# Cria uma cópia do dataframe\n",
    "df_calculado = df_droped_column.copy()"
   ]
  },
  {
   "cell_type": "code",
   "execution_count": 27,
   "id": "11b10730-40e1-4253-a27e-cb3f03d03d7c",
   "metadata": {},
   "outputs": [],
   "source": [
    "# Obter os anos e contas únicos\n",
    "anos = df_calculado['ANO'].unique()\n",
    "contas = df_calculado['CD_CONTA'].unique()"
   ]
  },
  {
   "cell_type": "code",
   "execution_count": 28,
   "id": "429a2c54-7c21-4729-bacf-15b112159db4",
   "metadata": {},
   "outputs": [
    {
     "name": "stdout",
     "output_type": "stream",
     "text": [
      "DataFrame atualizado:\n"
     ]
    }
   ],
   "source": [
    "# Soma os valores do mes 3, 6 e 9 e subtrai o valor do mês 12 \n",
    "for ano in anos:\n",
    "    for conta in contas:\n",
    "        # Filtra o DataFrame com base nas condições de conta e ano\n",
    "        filtro = (df_calculado['CD_CONTA'] == conta) & (df_calculado['ANO'] == ano)\n",
    "        \n",
    "        # Filtra as linhas onde o MES é igual a 3, 6 ou 9\n",
    "        filtro_mes_369 = filtro & df_calculado['MES'].isin([3, 6, 9])\n",
    "        \n",
    "        # Obtém a soma dos valores da coluna VL_CONTA onde MES é igual a 3, 6 ou 9\n",
    "        soma_mes_369 = df_calculado[filtro_mes_369]['VL_CONTA'].sum()\n",
    "        \n",
    "        # Filtra as linhas onde o MES é igual a 12\n",
    "        filtro_mes_12 = filtro & (df_calculado['MES'] == 12)\n",
    "        \n",
    "        # Subtrai a soma dos meses 3, 6 e 9 do valor do mês 12\n",
    "        df_calculado.loc[filtro_mes_12, 'VL_CONTA'] = df_calculado.loc[filtro_mes_12, 'VL_CONTA'] - soma_mes_369\n",
    "\n",
    "print(\"DataFrame atualizado:\")\n",
    "# display(df_drop_column.head())"
   ]
  },
  {
   "cell_type": "code",
   "execution_count": 29,
   "id": "ad69c628-44c2-48fd-ad1a-c255e5a19e88",
   "metadata": {},
   "outputs": [
    {
     "data": {
      "text/html": [
       "<div>\n",
       "<style scoped>\n",
       "    .dataframe tbody tr th:only-of-type {\n",
       "        vertical-align: middle;\n",
       "    }\n",
       "\n",
       "    .dataframe tbody tr th {\n",
       "        vertical-align: top;\n",
       "    }\n",
       "\n",
       "    .dataframe thead th {\n",
       "        text-align: right;\n",
       "    }\n",
       "</style>\n",
       "<table border=\"1\" class=\"dataframe\">\n",
       "  <thead>\n",
       "    <tr style=\"text-align: right;\">\n",
       "      <th></th>\n",
       "      <th>CNPJ_CIA</th>\n",
       "      <th>DENOM_CIA</th>\n",
       "      <th>CD_CONTA</th>\n",
       "      <th>DS_CONTA</th>\n",
       "      <th>VL_CONTA</th>\n",
       "      <th>TIPO_DEM</th>\n",
       "      <th>ANO</th>\n",
       "      <th>MES</th>\n",
       "      <th>PERIODO</th>\n",
       "    </tr>\n",
       "  </thead>\n",
       "  <tbody>\n",
       "    <tr>\n",
       "      <th>398</th>\n",
       "      <td>03.220.438/0001-73</td>\n",
       "      <td>EQUATORIAL ENERGIA S.A.</td>\n",
       "      <td>3.02</td>\n",
       "      <td>Custo dos Bens e/ou Serviços Vendidos</td>\n",
       "      <td>-5458101.0</td>\n",
       "      <td>Demonstração do Resultado</td>\n",
       "      <td>2022</td>\n",
       "      <td>12</td>\n",
       "      <td>4T2022</td>\n",
       "    </tr>\n",
       "    <tr>\n",
       "      <th>2557</th>\n",
       "      <td>03.220.438/0001-73</td>\n",
       "      <td>EQUATORIAL ENERGIA S.A.</td>\n",
       "      <td>3.02</td>\n",
       "      <td>Custo dos Bens e/ou Serviços Vendidos</td>\n",
       "      <td>-3844293.0</td>\n",
       "      <td>Demonstração do Resultado</td>\n",
       "      <td>2022</td>\n",
       "      <td>3</td>\n",
       "      <td>1T2022</td>\n",
       "    </tr>\n",
       "    <tr>\n",
       "      <th>2600</th>\n",
       "      <td>03.220.438/0001-73</td>\n",
       "      <td>EQUATORIAL ENERGIA S.A.</td>\n",
       "      <td>3.02</td>\n",
       "      <td>Custo dos Bens e/ou Serviços Vendidos</td>\n",
       "      <td>-4380488.0</td>\n",
       "      <td>Demonstração do Resultado</td>\n",
       "      <td>2022</td>\n",
       "      <td>6</td>\n",
       "      <td>2T2022</td>\n",
       "    </tr>\n",
       "    <tr>\n",
       "      <th>2678</th>\n",
       "      <td>03.220.438/0001-73</td>\n",
       "      <td>EQUATORIAL ENERGIA S.A.</td>\n",
       "      <td>3.02</td>\n",
       "      <td>Custo dos Bens e/ou Serviços Vendidos</td>\n",
       "      <td>-4882854.0</td>\n",
       "      <td>Demonstração do Resultado</td>\n",
       "      <td>2022</td>\n",
       "      <td>9</td>\n",
       "      <td>3T2022</td>\n",
       "    </tr>\n",
       "  </tbody>\n",
       "</table>\n",
       "</div>"
      ],
      "text/plain": [
       "                CNPJ_CIA                DENOM_CIA CD_CONTA  \\\n",
       "398   03.220.438/0001-73  EQUATORIAL ENERGIA S.A.     3.02   \n",
       "2557  03.220.438/0001-73  EQUATORIAL ENERGIA S.A.     3.02   \n",
       "2600  03.220.438/0001-73  EQUATORIAL ENERGIA S.A.     3.02   \n",
       "2678  03.220.438/0001-73  EQUATORIAL ENERGIA S.A.     3.02   \n",
       "\n",
       "                                   DS_CONTA   VL_CONTA  \\\n",
       "398   Custo dos Bens e/ou Serviços Vendidos -5458101.0   \n",
       "2557  Custo dos Bens e/ou Serviços Vendidos -3844293.0   \n",
       "2600  Custo dos Bens e/ou Serviços Vendidos -4380488.0   \n",
       "2678  Custo dos Bens e/ou Serviços Vendidos -4882854.0   \n",
       "\n",
       "                       TIPO_DEM   ANO  MES PERIODO  \n",
       "398   Demonstração do Resultado  2022   12  4T2022  \n",
       "2557  Demonstração do Resultado  2022    3  1T2022  \n",
       "2600  Demonstração do Resultado  2022    6  2T2022  \n",
       "2678  Demonstração do Resultado  2022    9  3T2022  "
      ]
     },
     "execution_count": 29,
     "metadata": {},
     "output_type": "execute_result"
    }
   ],
   "source": [
    "df_calculado[(df_calculado[\"ANO\"] == 2022) & (df_calculado['CD_CONTA'] == \"3.02\")]"
   ]
  },
  {
   "cell_type": "markdown",
   "id": "08794c3c-81fa-41d7-b5af-ff9e7991803f",
   "metadata": {},
   "source": [
    "Resultado esperado: \\\n",
    "1T2022 = -3844293.0 \\\n",
    "2T2022 = -4380488.0 \\\n",
    "3T2022 = -4882854.0 \\\n",
    "4T2022 = -5458101.0\t"
   ]
  },
  {
   "cell_type": "markdown",
   "id": "7c624653-ffdf-4aa1-9c60-7634e17c721b",
   "metadata": {},
   "source": [
    "## 3.5 Concatenando Dados Anuais e Trimestrais"
   ]
  },
  {
   "cell_type": "code",
   "execution_count": 30,
   "id": "ba8126be-fedb-4d38-a80b-ce3a720928fc",
   "metadata": {},
   "outputs": [],
   "source": [
    "df_final = pd.concat([df_calculado, df_droped_column_anual], ignore_index=True)"
   ]
  },
  {
   "cell_type": "markdown",
   "id": "6e5ba3ad-a23e-4ea5-a72c-873bbafb9c33",
   "metadata": {},
   "source": [
    "## 3.6 Alterando o Nome das Colunas"
   ]
  },
  {
   "cell_type": "code",
   "execution_count": 31,
   "id": "17df4979-fd77-4a31-a279-53fb42dbf25f",
   "metadata": {},
   "outputs": [],
   "source": [
    "colunas = ['CNPJ','EMPRESA','CONTA','DESCRIÇÃO','VALOR','DEMONSTRATIVO','ANO', 'MES', 'PERIODO']\n",
    "df_final.columns = colunas"
   ]
  },
  {
   "cell_type": "markdown",
   "id": "9c15d63b-aa64-4ace-814f-22fbbe7452e1",
   "metadata": {},
   "source": [
    "# 4. Exportando os Dados"
   ]
  },
  {
   "cell_type": "code",
   "execution_count": 32,
   "id": "71f8db23-c4a9-4d0f-aeab-d3a7c4d01a49",
   "metadata": {},
   "outputs": [],
   "source": [
    "# Define o diretório de dados processados\n",
    "dir_processed_data = os.path.join(diretorio_atual, \"data_cvm\\processed\")\n",
    "os.chdir(dir_processed_data)"
   ]
  },
  {
   "cell_type": "code",
   "execution_count": 33,
   "id": "d761e578-c529-46a0-b203-2d871d4330e6",
   "metadata": {},
   "outputs": [],
   "source": [
    "df_final.to_csv('demonstracao_resultado_completo.csv', index=False)"
   ]
  }
 ],
 "metadata": {
  "kernelspec": {
   "display_name": "Python 3 (ipykernel)",
   "language": "python",
   "name": "python3"
  },
  "language_info": {
   "codemirror_mode": {
    "name": "ipython",
    "version": 3
   },
   "file_extension": ".py",
   "mimetype": "text/x-python",
   "name": "python",
   "nbconvert_exporter": "python",
   "pygments_lexer": "ipython3",
   "version": "3.11.9"
  }
 },
 "nbformat": 4,
 "nbformat_minor": 5
}
