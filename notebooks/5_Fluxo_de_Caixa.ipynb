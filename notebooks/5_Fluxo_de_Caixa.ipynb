{
 "cells": [
  {
   "cell_type": "code",
   "execution_count": 1,
   "id": "fba5cdd5-b643-4ae5-b6d8-9beb94636be8",
   "metadata": {},
   "outputs": [],
   "source": [
    "import pandas as pd\n",
    "import os\n",
    "import zipfile"
   ]
  },
  {
   "cell_type": "markdown",
   "id": "28adff62-2b19-4b7e-8611-55f05dd38d8e",
   "metadata": {},
   "source": [
    "# 1. Ler Arquivos"
   ]
  },
  {
   "cell_type": "code",
   "execution_count": 2,
   "id": "7104a9c9-f90e-4c2b-8b51-54a4683d00fe",
   "metadata": {},
   "outputs": [],
   "source": [
    "# Sobe um nível no diretório\n",
    "os.chdir(\"..\")"
   ]
  },
  {
   "cell_type": "code",
   "execution_count": 11,
   "id": "1025960e-0e4d-4813-8631-6d2191c7c911",
   "metadata": {},
   "outputs": [
    {
     "name": "stdout",
     "output_type": "stream",
     "text": [
      "C:\\Workspace\\Streamlit\\api_contabil_TESTE\n"
     ]
    }
   ],
   "source": [
    "# Armazena o novo diretório de trabalho atual\n",
    "diretorio_atual = os.getcwd()\n",
    "print(diretorio_atual)"
   ]
  },
  {
   "cell_type": "code",
   "execution_count": 9,
   "id": "ff6e1c2e-0588-4e74-b90a-2feb29873c24",
   "metadata": {},
   "outputs": [],
   "source": [
    "# Caminho dos diretorios\n",
    "dir_preprocessed_II = os.path.join(diretorio_atual, \"data_cvm\\preprocessed_II\")"
   ]
  },
  {
   "cell_type": "code",
   "execution_count": 12,
   "id": "aeb14146-39d4-43b9-af05-4fd020cb765b",
   "metadata": {},
   "outputs": [],
   "source": [
    "# Define o diretório\n",
    "os.chdir(dir_preprocessed_II)"
   ]
  },
  {
   "cell_type": "code",
   "execution_count": 13,
   "id": "8151c97f-cdbb-4f48-9ea5-7d06ce728667",
   "metadata": {},
   "outputs": [],
   "source": [
    "# Ler dados trimestral\n",
    "df_trim = pd.read_csv(\"equatorial_fluxo_caixa_trim.csv\")"
   ]
  },
  {
   "cell_type": "code",
   "execution_count": 14,
   "id": "3cb6d052-c00e-41b4-b5ad-e8456de0f0f0",
   "metadata": {},
   "outputs": [],
   "source": [
    "# Ler dados anual\n",
    "df_anual = pd.read_csv(\"equatorial_fluxo_caixa_anual.csv\")"
   ]
  },
  {
   "cell_type": "code",
   "execution_count": 15,
   "id": "0d320cc3-e542-47e4-8c62-647aed5cd9ed",
   "metadata": {},
   "outputs": [],
   "source": [
    "df = pd.concat([df_anual, df_trim], ignore_index=True)"
   ]
  },
  {
   "cell_type": "markdown",
   "id": "9a766675-c341-4dfc-a5c6-ea1683c677c0",
   "metadata": {},
   "source": [
    "# 2. Análise Exploratória"
   ]
  },
  {
   "cell_type": "markdown",
   "id": "7e340d02-1a68-4124-bd48-0d7f7409b61b",
   "metadata": {},
   "source": [
    "## 2.1 Verficando se há meses duplicados "
   ]
  },
  {
   "cell_type": "code",
   "execution_count": 16,
   "id": "1b7f3ff9-4917-43a6-8200-b20a249ee49d",
   "metadata": {},
   "outputs": [],
   "source": [
    "teste = df[(df['CD_CONTA'] == '6.01') & (df['ANO'] == 2022)] "
   ]
  },
  {
   "cell_type": "code",
   "execution_count": 17,
   "id": "1fba345c-b768-45e5-9218-9018365cf424",
   "metadata": {},
   "outputs": [
    {
     "data": {
      "text/html": [
       "<div>\n",
       "<style scoped>\n",
       "    .dataframe tbody tr th:only-of-type {\n",
       "        vertical-align: middle;\n",
       "    }\n",
       "\n",
       "    .dataframe tbody tr th {\n",
       "        vertical-align: top;\n",
       "    }\n",
       "\n",
       "    .dataframe thead th {\n",
       "        text-align: right;\n",
       "    }\n",
       "</style>\n",
       "<table border=\"1\" class=\"dataframe\">\n",
       "  <thead>\n",
       "    <tr style=\"text-align: right;\">\n",
       "      <th></th>\n",
       "      <th>CNPJ_CIA</th>\n",
       "      <th>DENOM_CIA</th>\n",
       "      <th>DT_FIM_EXERC</th>\n",
       "      <th>CD_CONTA</th>\n",
       "      <th>DS_CONTA</th>\n",
       "      <th>VL_CONTA</th>\n",
       "      <th>DT_INI_EXERC</th>\n",
       "      <th>TIPO_DEM</th>\n",
       "      <th>ANO</th>\n",
       "      <th>MES</th>\n",
       "    </tr>\n",
       "  </thead>\n",
       "  <tbody>\n",
       "    <tr>\n",
       "      <th>786</th>\n",
       "      <td>03.220.438/0001-73</td>\n",
       "      <td>EQUATORIAL ENERGIA S.A.</td>\n",
       "      <td>2022-12-31</td>\n",
       "      <td>6.01</td>\n",
       "      <td>Caixa Líquido Atividades Operacionais</td>\n",
       "      <td>3467507.0</td>\n",
       "      <td>2022-01-01</td>\n",
       "      <td>Demonstração do Fluxo de Caixa (Método Indireto)</td>\n",
       "      <td>2022</td>\n",
       "      <td>12</td>\n",
       "    </tr>\n",
       "    <tr>\n",
       "      <th>3088</th>\n",
       "      <td>03.220.438/0001-73</td>\n",
       "      <td>EQUATORIAL ENERGIA S.A.</td>\n",
       "      <td>2022-03-31</td>\n",
       "      <td>6.01</td>\n",
       "      <td>Caixa Líquido Atividades Operacionais</td>\n",
       "      <td>151864.0</td>\n",
       "      <td>2022-01-01</td>\n",
       "      <td>Demonstração do Fluxo de Caixa (Método Indireto)</td>\n",
       "      <td>2022</td>\n",
       "      <td>3</td>\n",
       "    </tr>\n",
       "    <tr>\n",
       "      <th>3170</th>\n",
       "      <td>03.220.438/0001-73</td>\n",
       "      <td>EQUATORIAL ENERGIA S.A.</td>\n",
       "      <td>2022-06-30</td>\n",
       "      <td>6.01</td>\n",
       "      <td>Caixa Líquido Atividades Operacionais</td>\n",
       "      <td>2075768.0</td>\n",
       "      <td>2022-01-01</td>\n",
       "      <td>Demonstração do Fluxo de Caixa (Método Indireto)</td>\n",
       "      <td>2022</td>\n",
       "      <td>6</td>\n",
       "    </tr>\n",
       "    <tr>\n",
       "      <th>3241</th>\n",
       "      <td>03.220.438/0001-73</td>\n",
       "      <td>EQUATORIAL ENERGIA S.A.</td>\n",
       "      <td>2022-09-30</td>\n",
       "      <td>6.01</td>\n",
       "      <td>Caixa Líquido Atividades Operacionais</td>\n",
       "      <td>2827391.0</td>\n",
       "      <td>2022-01-01</td>\n",
       "      <td>Demonstração do Fluxo de Caixa (Método Indireto)</td>\n",
       "      <td>2022</td>\n",
       "      <td>9</td>\n",
       "    </tr>\n",
       "  </tbody>\n",
       "</table>\n",
       "</div>"
      ],
      "text/plain": [
       "                CNPJ_CIA                DENOM_CIA DT_FIM_EXERC CD_CONTA  \\\n",
       "786   03.220.438/0001-73  EQUATORIAL ENERGIA S.A.   2022-12-31     6.01   \n",
       "3088  03.220.438/0001-73  EQUATORIAL ENERGIA S.A.   2022-03-31     6.01   \n",
       "3170  03.220.438/0001-73  EQUATORIAL ENERGIA S.A.   2022-06-30     6.01   \n",
       "3241  03.220.438/0001-73  EQUATORIAL ENERGIA S.A.   2022-09-30     6.01   \n",
       "\n",
       "                                   DS_CONTA   VL_CONTA DT_INI_EXERC  \\\n",
       "786   Caixa Líquido Atividades Operacionais  3467507.0   2022-01-01   \n",
       "3088  Caixa Líquido Atividades Operacionais   151864.0   2022-01-01   \n",
       "3170  Caixa Líquido Atividades Operacionais  2075768.0   2022-01-01   \n",
       "3241  Caixa Líquido Atividades Operacionais  2827391.0   2022-01-01   \n",
       "\n",
       "                                              TIPO_DEM   ANO  MES  \n",
       "786   Demonstração do Fluxo de Caixa (Método Indireto)  2022   12  \n",
       "3088  Demonstração do Fluxo de Caixa (Método Indireto)  2022    3  \n",
       "3170  Demonstração do Fluxo de Caixa (Método Indireto)  2022    6  \n",
       "3241  Demonstração do Fluxo de Caixa (Método Indireto)  2022    9  "
      ]
     },
     "metadata": {},
     "output_type": "display_data"
    }
   ],
   "source": [
    "display(teste)"
   ]
  },
  {
   "cell_type": "markdown",
   "id": "5bfa1682-835d-495c-b180-c8e555fda462",
   "metadata": {},
   "source": [
    "# 3. Manipulação dos Dados"
   ]
  },
  {
   "cell_type": "markdown",
   "id": "8b334187-dd38-4ef2-9f82-d971297d6914",
   "metadata": {},
   "source": [
    "## 3.1 Deletando as Colunas"
   ]
  },
  {
   "cell_type": "code",
   "execution_count": 18,
   "id": "2801f95e-ce84-4963-bc4d-74463ee270cd",
   "metadata": {},
   "outputs": [],
   "source": [
    "df_droped_column_anual = df_anual.drop(\n",
    "    columns=['DT_FIM_EXERC','DT_INI_EXERC'])"
   ]
  },
  {
   "cell_type": "code",
   "execution_count": 19,
   "id": "95822351-0a58-4e6c-8b78-0caae131e8f2",
   "metadata": {
    "scrolled": true
   },
   "outputs": [],
   "source": [
    "df_droped_column = df.drop(\n",
    "    columns=['DT_FIM_EXERC','DT_INI_EXERC'])"
   ]
  },
  {
   "cell_type": "markdown",
   "id": "1e51864a-3965-4095-a1c0-b7a42ac708b9",
   "metadata": {},
   "source": [
    "## 3.2 Inserindo a Coluna Período"
   ]
  },
  {
   "cell_type": "markdown",
   "id": "6a90a1ad-57a4-4911-a1e8-ded4a491ddb6",
   "metadata": {},
   "source": [
    "### 3.2.1 Anual"
   ]
  },
  {
   "cell_type": "code",
   "execution_count": 20,
   "id": "d03afca1-953d-4f39-8483-909e889c8949",
   "metadata": {},
   "outputs": [],
   "source": [
    "df_droped_column_anual['PERIODO'] = 'ANUAL'"
   ]
  },
  {
   "cell_type": "markdown",
   "id": "4d19aecc-dde7-4754-b1ea-c0c10d66b3df",
   "metadata": {},
   "source": [
    "### 3.3.2 Trimestral"
   ]
  },
  {
   "cell_type": "code",
   "execution_count": 21,
   "id": "651b579f-a2fd-44d6-9943-ad43ed9f9f95",
   "metadata": {},
   "outputs": [],
   "source": [
    "# Função para inserir a coluns Período\n",
    "def insere_periodo_trimestral(df):\n",
    "    df = df.copy()\n",
    "\n",
    "    # Dicionário para mapear os meses aos trimestres\n",
    "    mes_para_trimestre = {3: 1, 6: 2, 9: 3, 12: 4}\n",
    "    \n",
    "    # Filtrar apenas os anos e meses relevantes\n",
    "    anos_relevantes = list(range(2011, 2025))\n",
    "    meses_relevantes = [3, 6, 9, 12]\n",
    "\n",
    "    # Aplicar a lógica de período trimestral\n",
    "    df = df[(df['ANO'].isin(anos_relevantes)) & (df['MES'].isin(meses_relevantes))]\n",
    "    df['PERIODO'] = df.apply(lambda row: f\"{mes_para_trimestre[row['MES']]}T{row['ANO']}\", axis=1)\n",
    "    \n",
    "    return df"
   ]
  },
  {
   "cell_type": "code",
   "execution_count": 22,
   "id": "32e8e9b9-dcfd-482d-96a9-51a783f1aada",
   "metadata": {},
   "outputs": [],
   "source": [
    "# Inserindo a coluna período\n",
    "df_droped_column = insere_periodo_trimestral(df_droped_column)"
   ]
  },
  {
   "cell_type": "code",
   "execution_count": 24,
   "id": "20c6ed2f-fa1e-4129-9f4d-ccfa937867ad",
   "metadata": {},
   "outputs": [
    {
     "data": {
      "text/html": [
       "<div>\n",
       "<style scoped>\n",
       "    .dataframe tbody tr th:only-of-type {\n",
       "        vertical-align: middle;\n",
       "    }\n",
       "\n",
       "    .dataframe tbody tr th {\n",
       "        vertical-align: top;\n",
       "    }\n",
       "\n",
       "    .dataframe thead th {\n",
       "        text-align: right;\n",
       "    }\n",
       "</style>\n",
       "<table border=\"1\" class=\"dataframe\">\n",
       "  <thead>\n",
       "    <tr style=\"text-align: right;\">\n",
       "      <th></th>\n",
       "      <th>CNPJ_CIA</th>\n",
       "      <th>DENOM_CIA</th>\n",
       "      <th>CD_CONTA</th>\n",
       "      <th>DS_CONTA</th>\n",
       "      <th>VL_CONTA</th>\n",
       "      <th>TIPO_DEM</th>\n",
       "      <th>ANO</th>\n",
       "      <th>MES</th>\n",
       "      <th>PERIODO</th>\n",
       "    </tr>\n",
       "  </thead>\n",
       "  <tbody>\n",
       "    <tr>\n",
       "      <th>869</th>\n",
       "      <td>03.220.438/0001-73</td>\n",
       "      <td>EQUATORIAL ENERGIA S.A.</td>\n",
       "      <td>6.01</td>\n",
       "      <td>Caixa Líquido Atividades Operacionais</td>\n",
       "      <td>3139179.0</td>\n",
       "      <td>Demonstração do Fluxo de Caixa (Método Indireto)</td>\n",
       "      <td>2023</td>\n",
       "      <td>12</td>\n",
       "      <td>4T2023</td>\n",
       "    </tr>\n",
       "    <tr>\n",
       "      <th>3324</th>\n",
       "      <td>03.220.438/0001-73</td>\n",
       "      <td>EQUATORIAL ENERGIA S.A.</td>\n",
       "      <td>6.01</td>\n",
       "      <td>Caixa Líquido Atividades Operacionais</td>\n",
       "      <td>531985.0</td>\n",
       "      <td>Demonstração do Fluxo de Caixa (Método Indireto)</td>\n",
       "      <td>2023</td>\n",
       "      <td>3</td>\n",
       "      <td>1T2023</td>\n",
       "    </tr>\n",
       "    <tr>\n",
       "      <th>3407</th>\n",
       "      <td>03.220.438/0001-73</td>\n",
       "      <td>EQUATORIAL ENERGIA S.A.</td>\n",
       "      <td>6.01</td>\n",
       "      <td>Caixa Líquido Atividades Operacionais</td>\n",
       "      <td>1977713.0</td>\n",
       "      <td>Demonstração do Fluxo de Caixa (Método Indireto)</td>\n",
       "      <td>2023</td>\n",
       "      <td>6</td>\n",
       "      <td>2T2023</td>\n",
       "    </tr>\n",
       "    <tr>\n",
       "      <th>3481</th>\n",
       "      <td>03.220.438/0001-73</td>\n",
       "      <td>EQUATORIAL ENERGIA S.A.</td>\n",
       "      <td>6.01</td>\n",
       "      <td>Caixa Líquido Atividades Operacionais</td>\n",
       "      <td>2468010.0</td>\n",
       "      <td>Demonstração do Fluxo de Caixa (Método Indireto)</td>\n",
       "      <td>2023</td>\n",
       "      <td>9</td>\n",
       "      <td>3T2023</td>\n",
       "    </tr>\n",
       "  </tbody>\n",
       "</table>\n",
       "</div>"
      ],
      "text/plain": [
       "                CNPJ_CIA                DENOM_CIA CD_CONTA  \\\n",
       "869   03.220.438/0001-73  EQUATORIAL ENERGIA S.A.     6.01   \n",
       "3324  03.220.438/0001-73  EQUATORIAL ENERGIA S.A.     6.01   \n",
       "3407  03.220.438/0001-73  EQUATORIAL ENERGIA S.A.     6.01   \n",
       "3481  03.220.438/0001-73  EQUATORIAL ENERGIA S.A.     6.01   \n",
       "\n",
       "                                   DS_CONTA   VL_CONTA  \\\n",
       "869   Caixa Líquido Atividades Operacionais  3139179.0   \n",
       "3324  Caixa Líquido Atividades Operacionais   531985.0   \n",
       "3407  Caixa Líquido Atividades Operacionais  1977713.0   \n",
       "3481  Caixa Líquido Atividades Operacionais  2468010.0   \n",
       "\n",
       "                                              TIPO_DEM   ANO  MES PERIODO  \n",
       "869   Demonstração do Fluxo de Caixa (Método Indireto)  2023   12  4T2023  \n",
       "3324  Demonstração do Fluxo de Caixa (Método Indireto)  2023    3  1T2023  \n",
       "3407  Demonstração do Fluxo de Caixa (Método Indireto)  2023    6  2T2023  \n",
       "3481  Demonstração do Fluxo de Caixa (Método Indireto)  2023    9  3T2023  "
      ]
     },
     "metadata": {},
     "output_type": "display_data"
    }
   ],
   "source": [
    "teste = df_droped_column[(df_droped_column['CD_CONTA'] == '6.01') & (df_droped_column['ANO'] == 2023)] \n",
    "display(teste)"
   ]
  },
  {
   "cell_type": "markdown",
   "id": "7c624653-ffdf-4aa1-9c60-7634e17c721b",
   "metadata": {},
   "source": [
    "## 3.5 Concatenando Dados Anuais e Trimestrais"
   ]
  },
  {
   "cell_type": "code",
   "execution_count": 25,
   "id": "ba8126be-fedb-4d38-a80b-ce3a720928fc",
   "metadata": {},
   "outputs": [],
   "source": [
    "df_final = pd.concat([df_droped_column, df_droped_column_anual], ignore_index=True)"
   ]
  },
  {
   "cell_type": "markdown",
   "id": "6e5ba3ad-a23e-4ea5-a72c-873bbafb9c33",
   "metadata": {},
   "source": [
    "## 3.6 Alterando o Nome das Colunas"
   ]
  },
  {
   "cell_type": "code",
   "execution_count": 26,
   "id": "17df4979-fd77-4a31-a279-53fb42dbf25f",
   "metadata": {},
   "outputs": [],
   "source": [
    "colunas = ['CNPJ','EMPRESA','CONTA','DESCRIÇÃO','VALOR','DEMONSTRATIVO','ANO', 'MES', 'PERIODO']\n",
    "df_final.columns = colunas"
   ]
  },
  {
   "cell_type": "markdown",
   "id": "9c15d63b-aa64-4ace-814f-22fbbe7452e1",
   "metadata": {},
   "source": [
    "# 4. Exportando os Dados"
   ]
  },
  {
   "cell_type": "code",
   "execution_count": 27,
   "id": "71f8db23-c4a9-4d0f-aeab-d3a7c4d01a49",
   "metadata": {},
   "outputs": [],
   "source": [
    "# Define o diretório de dados processados\n",
    "# Caminho dos diretorios\n",
    "dir_processed_data = os.path.join(diretorio_atual, \"data_cvm\\processed\")\n",
    "os.chdir(dir_processed_data)"
   ]
  },
  {
   "cell_type": "code",
   "execution_count": 28,
   "id": "d761e578-c529-46a0-b203-2d871d4330e6",
   "metadata": {},
   "outputs": [],
   "source": [
    "df_final.to_csv('fluxo_de_caixa_completo.csv', index=False)"
   ]
  }
 ],
 "metadata": {
  "kernelspec": {
   "display_name": "Python 3 (ipykernel)",
   "language": "python",
   "name": "python3"
  },
  "language_info": {
   "codemirror_mode": {
    "name": "ipython",
    "version": 3
   },
   "file_extension": ".py",
   "mimetype": "text/x-python",
   "name": "python",
   "nbconvert_exporter": "python",
   "pygments_lexer": "ipython3",
   "version": "3.11.9"
  }
 },
 "nbformat": 4,
 "nbformat_minor": 5
}
